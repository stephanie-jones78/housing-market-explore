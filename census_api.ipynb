{
  "nbformat": 4,
  "nbformat_minor": 0,
  "metadata": {
    "colab": {
      "name": "census-api.ipynb",
      "provenance": [],
      "include_colab_link": true
    },
    "kernelspec": {
      "name": "python3",
      "display_name": "Python 3"
    },
    "language_info": {
      "name": "python"
    }
  },
  "cells": [
    {
      "cell_type": "markdown",
      "metadata": {
        "id": "view-in-github",
        "colab_type": "text"
      },
      "source": [
        "<a href=\"https://colab.research.google.com/github/stephanie-jones78/housing-market-explore/blob/main/census_api.ipynb\" target=\"_parent\"><img src=\"https://colab.research.google.com/assets/colab-badge.svg\" alt=\"Open In Colab\"/></a>"
      ]
    },
    {
      "cell_type": "code",
      "execution_count": null,
      "metadata": {
        "id": "K_LdEem8PkGR"
      },
      "outputs": [],
      "source": [
        "# importing libraries\n",
        "import pandas as pd\n",
        "import urllib.request, urllib.parse, urllib.error \n",
        "import json, csv\n",
        "\n",
        "# importing library to store api key\n",
        "from getpass import getpass"
      ]
    },
    {
      "cell_type": "markdown",
      "source": [
        "# U.S. Census Bureau API\n",
        "Using [this](https://www2.census.gov/data/api-documentation/EITS_API_User_Guide_Dec2020.pdf) guide to get housing data from U.S. Census Bureau. \n",
        ">#### API Call\n",
        "`https://api.census.gov/data/timeseries/eits/ftd?get=cell_value,time_slot_id,error_data,category_code&se\n",
        "asonally_adj&data_type_code&for=US&time=YEAR `\n",
        "\n",
        "## Indicator Abbreviation Codes\n",
        "Indicator Dataset | Abbreviation\n",
        ":-- | :-- \n",
        "Construction Spending (VIP) | vip\n",
        "New Residential Sales (NRS) | ressales\n",
        "New Residential Construction (NRC) | resconst\n",
        "Monthly Wholesale Trade Inventories (MWTS) | mwts\n",
        "Advance Monthly Retail Sales (MARTS) | marts\n",
        "Monthly Trade & Inventory Sales (MTIS) | mtis\n",
        "Monthly Retail Sales (MRTS) | mrts\n",
        "Advance Report on Durable Goods (ADVM3) | advm3\n",
        "Manufacturer’s Shipments Inventories & Orders (M3) | m3\n",
        "International Trade (FTD) | ftd\n",
        "Housing Vacancies & Homeownership Rate(HV) | hv \n",
        "Quarterly Services (QSS) | qss\n",
        "Quarterly Financial Report (QFR) | qfr\n",
        "Business Formation Statistics (BFS) | bfs\n",
        "\n",
        "## Non‐Indicators Dataset\n",
        "Non-indicator | Abbreviation\n",
        ":-- | :-- \n",
        "Manufactured Homes (MHS)(1959 – 2014) | mhs\n",
        "Manufactured Housing (MHS2) (2014‐Present) | mhs2\n",
        "Quarterly Survey of Public Pensions (QPR) | qpr\n",
        "Quarterly Summary of State and Local Taxes (QTAX) | qtax\n",
        "\n"
      ],
      "metadata": {
        "id": "tNKUPxNoRi0Q"
      }
    },
    {
      "cell_type": "code",
      "source": [
        ""
      ],
      "metadata": {
        "id": "Z5t--06YRmJg"
      },
      "execution_count": null,
      "outputs": []
    },
    {
      "cell_type": "markdown",
      "source": [
        "# Parameters\n",
        "Parameters are like filters and defining parameters in the API call allows for direct access without having to scroll through lengthy data tables. \n",
        ">`https://api.census.gov/data/timeseries/eits/ftd?get=cell_value,time_slot_id,error_data,category_code&se asonally_adj&data_type_code&for=US&time=YEAR`\n",
        "\n",
        "Parameter | Description | Example | Optional\n",
        ":-- | :-- | :-- | :-- \n",
        "`category_code` | industry list | | Required\n",
        "`time_slot_id` |  \n",
        "`cell_value` | data value | | Required \n",
        "`error_data` | | `error_data=yes` / `no`\n",
        "`seasonally_adj` | \n",
        "`category_code` | \n",
        "`data_type_code` | item type | | Required \n",
        "`for` | data location (FIPS) | `for=US` (all US states) \n",
        "`in` | data location (FIPS) \n",
        "`program_code` | component name\n",
        "`time` | data year/quarter/month | `time=1992` | Required\n",
        "`geo_level_code` | | | "
      ],
      "metadata": {
        "id": "TetdKFAgU1H9"
      }
    },
    {
      "cell_type": "code",
      "source": [
        "# storing api key\n",
        "api_key = getpass('Enter API Key: ')"
      ],
      "metadata": {
        "colab": {
          "base_uri": "https://localhost:8080/"
        },
        "id": "Q7M4POCGW8Ae",
        "outputId": "314b1d73-b018-4aa3-92c2-b2f02752a46b"
      },
      "execution_count": null,
      "outputs": [
        {
          "name": "stdout",
          "output_type": "stream",
          "text": [
            "Enter API Key: ··········\n"
          ]
        }
      ]
    },
    {
      "cell_type": "code",
      "source": [
        "# setting up api call\n",
        "base_url = 'https://api.census.gov/data/timeseries/'\n",
        "\n",
        "# parameter placeholders\n",
        "\n",
        "\n",
        "# paramter dictionary"
      ],
      "metadata": {
        "id": "_UQjvlw9gpZa"
      },
      "execution_count": null,
      "outputs": []
    },
    {
      "cell_type": "code",
      "source": [
        ""
      ],
      "metadata": {
        "id": "4PN2PkpDhvo5"
      },
      "execution_count": null,
      "outputs": []
    }
  ]
}